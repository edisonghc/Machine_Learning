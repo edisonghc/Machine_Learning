{
 "cells": [
  {
   "cell_type": "code",
   "execution_count": 108,
   "metadata": {
    "ExecuteTime": {
     "end_time": "2020-11-22T19:07:18.436180Z",
     "start_time": "2020-11-22T19:07:18.423401Z"
    }
   },
   "outputs": [],
   "source": [
    "import matplotlib.pyplot as plt\n",
    "import numpy as np\n",
    "\n",
    "from queue import PriorityQueue\n",
    "\n",
    "from IPython.display import clear_output\n",
    "import time"
   ]
  },
  {
   "cell_type": "code",
   "execution_count": 109,
   "metadata": {
    "ExecuteTime": {
     "end_time": "2020-11-22T19:07:18.448534Z",
     "start_time": "2020-11-22T19:07:18.441970Z"
    }
   },
   "outputs": [],
   "source": [
    "data_path = 'data3.txt' # -data\n",
    "max_cluster_num = 20 # -k\n",
    "min_cluster_size = 5 # -s\n",
    "min_intra_dist = 0.9 # -d\n",
    "output_path = 'output3.txt' # -output\n",
    "\n",
    "MAGIC_NUMBER = 100"
   ]
  },
  {
   "cell_type": "code",
   "execution_count": 110,
   "metadata": {
    "ExecuteTime": {
     "end_time": "2020-11-22T19:07:18.468286Z",
     "start_time": "2020-11-22T19:07:18.454440Z"
    }
   },
   "outputs": [],
   "source": [
    "data = np.genfromtxt(data_path, delimiter=' ')\n",
    "\n",
    "DATA_SIZE = data.shape[0]\n",
    "DATA_DIM = data.shape[1]\n",
    "\n",
    "feature_idx = np.array([i for i in range(DATA_SIZE)], dtype=int)\n",
    "\n",
    "# print(data[:5])\n",
    "# print(data.shape)"
   ]
  },
  {
   "cell_type": "code",
   "execution_count": 111,
   "metadata": {
    "ExecuteTime": {
     "end_time": "2020-11-22T19:07:18.475924Z",
     "start_time": "2020-11-22T19:07:18.471440Z"
    },
    "code_folding": []
   },
   "outputs": [],
   "source": [
    "label = {i: 0 for i in range(DATA_SIZE)}"
   ]
  },
  {
   "cell_type": "code",
   "execution_count": 112,
   "metadata": {
    "ExecuteTime": {
     "end_time": "2020-11-22T19:07:18.484625Z",
     "start_time": "2020-11-22T19:07:18.480362Z"
    }
   },
   "outputs": [],
   "source": [
    "# # Compute the pair-wise distance matrix\n",
    "\n",
    "# # Initialize the matrix\n",
    "# distance_mat = np.zeros((DATA_SIZE, DATA_SIZE))\n",
    "\n",
    "# # Fill in with true distance\n",
    "# for i in range(DATA_SIZE):\n",
    "#     for j in range(DATA_SIZE):\n",
    "        \n",
    "#         # dist(a,a) = 0\n",
    "#         if i == j:\n",
    "#             continue\n",
    "            \n",
    "#         # dist(a,b) = dist(b,a)\n",
    "#         if i > j:\n",
    "#             distance_mat[i,j] = distance_mat[j,i]\n",
    "            \n",
    "#         # Calculate the Euclidean distance: dist(a,b)\n",
    "#         else:\n",
    "#             distance_mat[i,j] = np.linalg.norm(data[i] - data[j])\n",
    "\n",
    "# plt.matshow(distance_mat, cmap='gray')\n",
    "# plt.show()"
   ]
  },
  {
   "cell_type": "code",
   "execution_count": 113,
   "metadata": {
    "ExecuteTime": {
     "end_time": "2020-11-22T19:07:18.494146Z",
     "start_time": "2020-11-22T19:07:18.487822Z"
    }
   },
   "outputs": [],
   "source": [
    "def dist(a, b):\n",
    "    return np.linalg.norm(a - b)"
   ]
  },
  {
   "cell_type": "code",
   "execution_count": 114,
   "metadata": {
    "ExecuteTime": {
     "end_time": "2020-11-22T19:07:18.502593Z",
     "start_time": "2020-11-22T19:07:18.496863Z"
    }
   },
   "outputs": [],
   "source": [
    "def icd(features, center):\n",
    "\n",
    "    intra_dist = np.array([])\n",
    "\n",
    "    for f in features:\n",
    "        \n",
    "        distance = dist(center, f, False)\n",
    "        intra_dist = np.append(intra_dist, distance)\n",
    "\n",
    "    return np.mean(intra_dist)"
   ]
  },
  {
   "cell_type": "code",
   "execution_count": 115,
   "metadata": {
    "ExecuteTime": {
     "end_time": "2020-11-22T19:07:18.538962Z",
     "start_time": "2020-11-22T19:07:18.512137Z"
    },
    "code_folding": []
   },
   "outputs": [],
   "source": [
    "def kmeans(feature_idx, k=2):\n",
    "\n",
    "    feature_dim = DATA_DIM\n",
    "    \n",
    "    # Initialize K centers\n",
    "    center_idx = np.random.choice(feature_idx, size=k, replace=False)\n",
    "    center = np.array(data[center_idx])\n",
    "    cluster_id = [i for i in range(k)]\n",
    "\n",
    "    # Initialize return values\n",
    "    width = [] # intra-cluster distance\n",
    "    clusters = []\n",
    "\n",
    "    while True:\n",
    "\n",
    "        # Assign each x to its closest center\n",
    "        label = np.array([], dtype=int)\n",
    "        dist2center = np.array([])\n",
    "\n",
    "        for f in feature_idx:\n",
    "\n",
    "            min_distance = None\n",
    "            nearest_label = None\n",
    "\n",
    "            for i in range(k):\n",
    "\n",
    "                c = center[i]\n",
    "                distance = dist(data[f], c)\n",
    "\n",
    "                # Update to the closest center so far\n",
    "                if min_distance is None or distance < min_distance:  # Short circuit\n",
    "                    \n",
    "                    min_distance = distance\n",
    "                    nearest_label = cluster_id[i]\n",
    "            \n",
    "            dist2center= np.append(dist2center, min_distance)\n",
    "            label = np.append(label, nearest_label)\n",
    "\n",
    "        # Calculate the mean of each cluster\n",
    "        cluster_mean = np.array([])\n",
    "\n",
    "        for lab in cluster_id:\n",
    "\n",
    "            cluster = np.array([data[i] for i in feature_idx[label == lab]])\n",
    "            cluster_mean = np.append(cluster_mean, np.mean(cluster, axis=0))\n",
    "\n",
    "        cluster_mean = np.reshape(cluster_mean, (-1, feature_dim))\n",
    "\n",
    "        # Continue updating the cluster centers if any x is reassigned to a new center\n",
    "        if np.array_equal(cluster_mean, center):\n",
    "            \n",
    "            # Output block:\n",
    "            # Calculate the width of each cluster\n",
    "            bitmap = []\n",
    "            \n",
    "            for i, lab in zip(range(k), cluster_id):\n",
    "                \n",
    "                idx_position = label == lab\n",
    "                bitmap.append((sum(idx_position), idx_position))\n",
    "            \n",
    "            bitmap.sort(key=lambda x : x[0])\n",
    "            \n",
    "            for (_, idx_position) in bitmap:\n",
    "                \n",
    "                width.append(np.mean(dist2center[idx_position]))\n",
    "\n",
    "                clusters.append(feature_idx[idx_position])\n",
    "            \n",
    "            break\n",
    "\n",
    "        else:\n",
    "            \n",
    "            center = cluster_mean\n",
    "\n",
    "    return width, clusters"
   ]
  },
  {
   "cell_type": "code",
   "execution_count": 116,
   "metadata": {
    "ExecuteTime": {
     "end_time": "2020-11-22T19:07:18.550851Z",
     "start_time": "2020-11-22T19:07:18.546958Z"
    },
    "scrolled": true
   },
   "outputs": [],
   "source": [
    "# kmeans(feature_idx)"
   ]
  },
  {
   "cell_type": "code",
   "execution_count": 117,
   "metadata": {
    "ExecuteTime": {
     "end_time": "2020-11-22T19:07:18.597354Z",
     "start_time": "2020-11-22T19:07:18.561036Z"
    }
   },
   "outputs": [],
   "source": [
    "class Node:\n",
    "    \n",
    "    node_queue = PriorityQueue()\n",
    "    priority_set = set()\n",
    "    \n",
    "    def __init__(self, feature_index, width=MAGIC_NUMBER):\n",
    "        \n",
    "        # Data and children\n",
    "        self.data = feature_index\n",
    "        self.left = None\n",
    "        self.right = None\n",
    "        \n",
    "        # Attributes\n",
    "        self.size = len(feature_index)\n",
    "        self.width = width\n",
    "        self.isLeaf = False\n",
    "        self.end = False\n",
    "        \n",
    "        self.enqueue(offset=self.size)\n",
    "\n",
    "\n",
    "    def clear_node_queue():\n",
    "        \n",
    "        Node.node_queue = PriorityQueue()\n",
    "    \n",
    "    def dequeue():\n",
    "        \n",
    "        return Node.node_queue.get()[1]\n",
    "    \n",
    "    def qsize():\n",
    "        \n",
    "        return Node.node_queue.qsize()\n",
    "    \n",
    "    def queue_is_empty():\n",
    "        \n",
    "        return Node.node_queue.empty()\n",
    "    \n",
    "    def enqueue(self, offset=0):\n",
    "        \n",
    "        priority = Node.generate_priority(DATA_SIZE - offset)\n",
    "        Node.node_queue.put((priority, self))\n",
    "        Node.priority_set.add(priority)\n",
    "    \n",
    "    def generate_priority(priority):\n",
    "        \n",
    "        if not {priority}.issubset(Node.priority_set):\n",
    "        \n",
    "            return priority\n",
    "        \n",
    "        else:\n",
    "            \n",
    "            return Node.generate_priority(priority + 1 / DATA_SIZE)\n",
    "        "
   ]
  },
  {
   "cell_type": "code",
   "execution_count": 118,
   "metadata": {
    "ExecuteTime": {
     "end_time": "2020-11-22T19:07:18.636623Z",
     "start_time": "2020-11-22T19:07:18.606667Z"
    }
   },
   "outputs": [],
   "source": [
    "def bisecting(recursive=True):\n",
    "    \n",
    "    node = Node.dequeue()\n",
    "    \n",
    "    if node.isLeaf:\n",
    "        \n",
    "        node.enqueue()\n",
    "        return True # Stop\n",
    "    \n",
    "    if node.width < min_intra_dist:\n",
    "        \n",
    "        node.isLeaf = True\n",
    "        node.enqueue()\n",
    "        \n",
    "        return bisecting() if recursive else False # Continue to next node\n",
    "    \n",
    "    if node.size < min_cluster_size:\n",
    "        \n",
    "        node.enqueue()\n",
    "        return True # Stop\n",
    "    \n",
    "    [left_width, right_width], [left_cluster, right_cluster] = kmeans(node.data)\n",
    "    \n",
    "    node.left = Node(left_cluster, left_width)\n",
    "    node.right = Node(right_cluster, right_width)\n",
    "    \n",
    "    if Node.qsize() >= max_cluster_num:\n",
    "        \n",
    "        return True # Stop\n",
    "    \n",
    "    return bisecting() if recursive else False # Continue to next node"
   ]
  },
  {
   "cell_type": "code",
   "execution_count": 119,
   "metadata": {
    "ExecuteTime": {
     "end_time": "2020-11-22T19:07:18.653397Z",
     "start_time": "2020-11-22T19:07:18.647327Z"
    }
   },
   "outputs": [],
   "source": [
    "# stop = bisecting(False)\n",
    "\n",
    "# while not stop:\n",
    "    \n",
    "#     clear_output(wait=True)\n",
    "#     print(Node.qsize())\n",
    "#     print_dendrogram(root)\n",
    "#     time.sleep(0.2)\n",
    "#     stop = bisecting(False)"
   ]
  },
  {
   "cell_type": "code",
   "execution_count": 120,
   "metadata": {
    "ExecuteTime": {
     "end_time": "2020-11-22T19:07:18.668642Z",
     "start_time": "2020-11-22T19:07:18.661886Z"
    }
   },
   "outputs": [],
   "source": [
    "class store:\n",
    "    \n",
    "    # Storage\n",
    "    storage = {}\n",
    "\n",
    "    def emit(depth, data):\n",
    "        current = store.storage.get(depth, [])\n",
    "        current.append(str(data))\n",
    "        store.storage[depth] = [i for i in current]\n",
    "        \n",
    "    def print_tree():\n",
    "        for k in range(len(store.storage)):\n",
    "            if store.storage[k]:\n",
    "                line = ' '.join(store.storage[k])\n",
    "                print(line)\n"
   ]
  },
  {
   "cell_type": "code",
   "execution_count": 121,
   "metadata": {
    "ExecuteTime": {
     "end_time": "2020-11-22T19:07:18.678389Z",
     "start_time": "2020-11-22T19:07:18.673008Z"
    }
   },
   "outputs": [],
   "source": [
    "def print_dendrogram(node, depth=0):\n",
    "    \n",
    "    line = ''\n",
    "    padding = depth\n",
    "    \n",
    "    if not node:\n",
    "        return\n",
    "    \n",
    "    store.emit(depth, node.size)\n",
    "    \n",
    "    print_dendrogram(node.left, padding+1)\n",
    "    \n",
    "    print_dendrogram(node.right, padding+1)\n",
    "    \n",
    "    return"
   ]
  },
  {
   "cell_type": "code",
   "execution_count": 122,
   "metadata": {
    "ExecuteTime": {
     "end_time": "2020-11-22T19:07:18.693937Z",
     "start_time": "2020-11-22T19:07:18.682757Z"
    }
   },
   "outputs": [],
   "source": [
    "def print_dendrogram_2(node, depth=1, pos=[1], right_tree=True, print_icd=False):\n",
    "    \n",
    "    line = ''\n",
    "    padding = depth\n",
    "    position = [pos[i] for i in range(len(pos))]\n",
    "    \n",
    "    if not node:\n",
    "        return\n",
    "    \n",
    "    for i in range(padding-1):\n",
    "        if position[i] != 1:\n",
    "            line += '│     '\n",
    "        else:\n",
    "            line += '      '\n",
    "    \n",
    "    if right_tree:\n",
    "        line += '└──── '\n",
    "    else:\n",
    "        line += '├──── '\n",
    "        \n",
    "    \n",
    "    line += str(node.size)\n",
    "    \n",
    "    if not node.left or not node.right:\n",
    "        \n",
    "        leaf = f'icd = {node.width:.3f}' if print_icd else ''\n",
    "        line += ': Leaf ' + leaf\n",
    "    \n",
    "    print(line)\n",
    "    \n",
    "    position_l = [pos[i] for i in range(len(pos))]\n",
    "    position_l.append(0)\n",
    "\n",
    "    print_dendrogram_2(node.left, padding+1, position_l, False, print_icd)\n",
    "    \n",
    "    position_r = [pos[i] for i in range(len(pos))]\n",
    "    position_r.append(1)\n",
    "\n",
    "    print_dendrogram_2(node.right, padding+1, position_r, True, print_icd)"
   ]
  },
  {
   "cell_type": "code",
   "execution_count": 123,
   "metadata": {
    "ExecuteTime": {
     "end_time": "2020-11-22T19:07:20.667610Z",
     "start_time": "2020-11-22T19:07:18.698040Z"
    }
   },
   "outputs": [
    {
     "name": "stdout",
     "output_type": "stream",
     "text": [
      "True\n"
     ]
    }
   ],
   "source": [
    "Node.clear_node_queue()\n",
    "root = Node(feature_idx)\n",
    "\n",
    "print(bisecting())"
   ]
  },
  {
   "cell_type": "code",
   "execution_count": 124,
   "metadata": {
    "ExecuteTime": {
     "end_time": "2020-11-22T19:07:20.687591Z",
     "start_time": "2020-11-22T19:07:20.669852Z"
    }
   },
   "outputs": [
    {
     "name": "stdout",
     "output_type": "stream",
     "text": [
      "{0: ['1000']}\n",
      "{0: ['1000'], 1: ['492']}\n",
      "{0: ['1000'], 1: ['492'], 2: ['158']}\n",
      "{0: ['1000'], 1: ['492'], 2: ['158'], 3: ['57']}\n",
      "{0: ['1000'], 1: ['492'], 2: ['158'], 3: ['57', '101']}\n",
      "{0: ['1000'], 1: ['492'], 2: ['158'], 3: ['57', '101'], 4: ['19']}\n",
      "{0: ['1000'], 1: ['492'], 2: ['158'], 3: ['57', '101'], 4: ['19', '82']}\n",
      "{0: ['1000'], 1: ['492'], 2: ['158'], 3: ['57', '101'], 4: ['19', '82'], 5: ['37']}\n",
      "{0: ['1000'], 1: ['492'], 2: ['158'], 3: ['57', '101'], 4: ['19', '82'], 5: ['37', '45']}\n",
      "{0: ['1000'], 1: ['492'], 2: ['158', '334'], 3: ['57', '101'], 4: ['19', '82'], 5: ['37', '45']}\n",
      "{0: ['1000'], 1: ['492'], 2: ['158', '334'], 3: ['57', '101', '88'], 4: ['19', '82'], 5: ['37', '45']}\n",
      "{0: ['1000'], 1: ['492'], 2: ['158', '334'], 3: ['57', '101', '88'], 4: ['19', '82', '44'], 5: ['37', '45']}\n",
      "{0: ['1000'], 1: ['492'], 2: ['158', '334'], 3: ['57', '101', '88'], 4: ['19', '82', '44', '44'], 5: ['37', '45']}\n",
      "{0: ['1000'], 1: ['492'], 2: ['158', '334'], 3: ['57', '101', '88', '246'], 4: ['19', '82', '44', '44'], 5: ['37', '45']}\n",
      "{0: ['1000'], 1: ['492'], 2: ['158', '334'], 3: ['57', '101', '88', '246'], 4: ['19', '82', '44', '44', '112'], 5: ['37', '45']}\n",
      "{0: ['1000'], 1: ['492'], 2: ['158', '334'], 3: ['57', '101', '88', '246'], 4: ['19', '82', '44', '44', '112'], 5: ['37', '45', '43']}\n",
      "{0: ['1000'], 1: ['492'], 2: ['158', '334'], 3: ['57', '101', '88', '246'], 4: ['19', '82', '44', '44', '112'], 5: ['37', '45', '43', '69']}\n",
      "{0: ['1000'], 1: ['492'], 2: ['158', '334'], 3: ['57', '101', '88', '246'], 4: ['19', '82', '44', '44', '112', '134'], 5: ['37', '45', '43', '69']}\n",
      "{0: ['1000'], 1: ['492'], 2: ['158', '334'], 3: ['57', '101', '88', '246'], 4: ['19', '82', '44', '44', '112', '134'], 5: ['37', '45', '43', '69', '51']}\n",
      "{0: ['1000'], 1: ['492'], 2: ['158', '334'], 3: ['57', '101', '88', '246'], 4: ['19', '82', '44', '44', '112', '134'], 5: ['37', '45', '43', '69', '51', '83']}\n",
      "{0: ['1000'], 1: ['492'], 2: ['158', '334'], 3: ['57', '101', '88', '246'], 4: ['19', '82', '44', '44', '112', '134'], 5: ['37', '45', '43', '69', '51', '83'], 6: ['34']}\n",
      "{0: ['1000'], 1: ['492'], 2: ['158', '334'], 3: ['57', '101', '88', '246'], 4: ['19', '82', '44', '44', '112', '134'], 5: ['37', '45', '43', '69', '51', '83'], 6: ['34', '49']}\n",
      "{0: ['1000'], 1: ['492', '508'], 2: ['158', '334'], 3: ['57', '101', '88', '246'], 4: ['19', '82', '44', '44', '112', '134'], 5: ['37', '45', '43', '69', '51', '83'], 6: ['34', '49']}\n",
      "{0: ['1000'], 1: ['492', '508'], 2: ['158', '334', '218'], 3: ['57', '101', '88', '246'], 4: ['19', '82', '44', '44', '112', '134'], 5: ['37', '45', '43', '69', '51', '83'], 6: ['34', '49']}\n",
      "{0: ['1000'], 1: ['492', '508'], 2: ['158', '334', '218'], 3: ['57', '101', '88', '246', '81'], 4: ['19', '82', '44', '44', '112', '134'], 5: ['37', '45', '43', '69', '51', '83'], 6: ['34', '49']}\n",
      "{0: ['1000'], 1: ['492', '508'], 2: ['158', '334', '218'], 3: ['57', '101', '88', '246', '81'], 4: ['19', '82', '44', '44', '112', '134', '25'], 5: ['37', '45', '43', '69', '51', '83'], 6: ['34', '49']}\n",
      "{0: ['1000'], 1: ['492', '508'], 2: ['158', '334', '218'], 3: ['57', '101', '88', '246', '81'], 4: ['19', '82', '44', '44', '112', '134', '25', '56'], 5: ['37', '45', '43', '69', '51', '83'], 6: ['34', '49']}\n",
      "{0: ['1000'], 1: ['492', '508'], 2: ['158', '334', '218'], 3: ['57', '101', '88', '246', '81', '137'], 4: ['19', '82', '44', '44', '112', '134', '25', '56'], 5: ['37', '45', '43', '69', '51', '83'], 6: ['34', '49']}\n",
      "{0: ['1000'], 1: ['492', '508'], 2: ['158', '334', '218'], 3: ['57', '101', '88', '246', '81', '137'], 4: ['19', '82', '44', '44', '112', '134', '25', '56', '63'], 5: ['37', '45', '43', '69', '51', '83'], 6: ['34', '49']}\n",
      "{0: ['1000'], 1: ['492', '508'], 2: ['158', '334', '218'], 3: ['57', '101', '88', '246', '81', '137'], 4: ['19', '82', '44', '44', '112', '134', '25', '56', '63', '74'], 5: ['37', '45', '43', '69', '51', '83'], 6: ['34', '49']}\n",
      "{0: ['1000'], 1: ['492', '508'], 2: ['158', '334', '218', '290'], 3: ['57', '101', '88', '246', '81', '137'], 4: ['19', '82', '44', '44', '112', '134', '25', '56', '63', '74'], 5: ['37', '45', '43', '69', '51', '83'], 6: ['34', '49']}\n",
      "{0: ['1000'], 1: ['492', '508'], 2: ['158', '334', '218', '290'], 3: ['57', '101', '88', '246', '81', '137', '47'], 4: ['19', '82', '44', '44', '112', '134', '25', '56', '63', '74'], 5: ['37', '45', '43', '69', '51', '83'], 6: ['34', '49']}\n",
      "{0: ['1000'], 1: ['492', '508'], 2: ['158', '334', '218', '290'], 3: ['57', '101', '88', '246', '81', '137', '47', '243'], 4: ['19', '82', '44', '44', '112', '134', '25', '56', '63', '74'], 5: ['37', '45', '43', '69', '51', '83'], 6: ['34', '49']}\n",
      "{0: ['1000'], 1: ['492', '508'], 2: ['158', '334', '218', '290'], 3: ['57', '101', '88', '246', '81', '137', '47', '243'], 4: ['19', '82', '44', '44', '112', '134', '25', '56', '63', '74', '68'], 5: ['37', '45', '43', '69', '51', '83'], 6: ['34', '49']}\n",
      "{0: ['1000'], 1: ['492', '508'], 2: ['158', '334', '218', '290'], 3: ['57', '101', '88', '246', '81', '137', '47', '243'], 4: ['19', '82', '44', '44', '112', '134', '25', '56', '63', '74', '68', '175'], 5: ['37', '45', '43', '69', '51', '83'], 6: ['34', '49']}\n",
      "{0: ['1000'], 1: ['492', '508'], 2: ['158', '334', '218', '290'], 3: ['57', '101', '88', '246', '81', '137', '47', '243'], 4: ['19', '82', '44', '44', '112', '134', '25', '56', '63', '74', '68', '175'], 5: ['37', '45', '43', '69', '51', '83', '45'], 6: ['34', '49']}\n",
      "{0: ['1000'], 1: ['492', '508'], 2: ['158', '334', '218', '290'], 3: ['57', '101', '88', '246', '81', '137', '47', '243'], 4: ['19', '82', '44', '44', '112', '134', '25', '56', '63', '74', '68', '175'], 5: ['37', '45', '43', '69', '51', '83', '45', '130'], 6: ['34', '49']}\n",
      "{0: ['1000'], 1: ['492', '508'], 2: ['158', '334', '218', '290'], 3: ['57', '101', '88', '246', '81', '137', '47', '243'], 4: ['19', '82', '44', '44', '112', '134', '25', '56', '63', '74', '68', '175'], 5: ['37', '45', '43', '69', '51', '83', '45', '130'], 6: ['34', '49', '58']}\n",
      "{0: ['1000'], 1: ['492', '508'], 2: ['158', '334', '218', '290'], 3: ['57', '101', '88', '246', '81', '137', '47', '243'], 4: ['19', '82', '44', '44', '112', '134', '25', '56', '63', '74', '68', '175'], 5: ['37', '45', '43', '69', '51', '83', '45', '130'], 6: ['34', '49', '58', '72']}\n"
     ]
    },
    {
     "ename": "NameError",
     "evalue": "name 'storage' is not defined",
     "output_type": "error",
     "traceback": [
      "\u001b[0;31m---------------------------------------------------------------------------\u001b[0m",
      "\u001b[0;31mNameError\u001b[0m                                 Traceback (most recent call last)",
      "\u001b[0;32m<ipython-input-124-94cfd829c5b7>\u001b[0m in \u001b[0;36m<module>\u001b[0;34m\u001b[0m\n\u001b[1;32m      2\u001b[0m \u001b[0mstore\u001b[0m\u001b[0;34m.\u001b[0m\u001b[0mstorage\u001b[0m \u001b[0;34m=\u001b[0m \u001b[0;34m{\u001b[0m\u001b[0;34m}\u001b[0m\u001b[0;34m\u001b[0m\u001b[0;34m\u001b[0m\u001b[0m\n\u001b[1;32m      3\u001b[0m \u001b[0mprint_dendrogram\u001b[0m\u001b[0;34m(\u001b[0m\u001b[0mroot\u001b[0m\u001b[0;34m)\u001b[0m\u001b[0;34m\u001b[0m\u001b[0;34m\u001b[0m\u001b[0m\n\u001b[0;32m----> 4\u001b[0;31m \u001b[0mstore\u001b[0m\u001b[0;34m.\u001b[0m\u001b[0mprint_tree\u001b[0m\u001b[0;34m(\u001b[0m\u001b[0;34m)\u001b[0m\u001b[0;34m\u001b[0m\u001b[0;34m\u001b[0m\u001b[0m\n\u001b[0m",
      "\u001b[0;32m<ipython-input-120-07e695c3a227>\u001b[0m in \u001b[0;36mprint_tree\u001b[0;34m()\u001b[0m\n\u001b[1;32m     11\u001b[0m \u001b[0;34m\u001b[0m\u001b[0m\n\u001b[1;32m     12\u001b[0m     \u001b[0;32mdef\u001b[0m \u001b[0mprint_tree\u001b[0m\u001b[0;34m(\u001b[0m\u001b[0;34m)\u001b[0m\u001b[0;34m:\u001b[0m\u001b[0;34m\u001b[0m\u001b[0;34m\u001b[0m\u001b[0m\n\u001b[0;32m---> 13\u001b[0;31m         \u001b[0;32mfor\u001b[0m \u001b[0mk\u001b[0m \u001b[0;32min\u001b[0m \u001b[0mrange\u001b[0m\u001b[0;34m(\u001b[0m\u001b[0mlen\u001b[0m\u001b[0;34m(\u001b[0m\u001b[0mstorage\u001b[0m\u001b[0;34m)\u001b[0m\u001b[0;34m)\u001b[0m\u001b[0;34m:\u001b[0m\u001b[0;34m\u001b[0m\u001b[0;34m\u001b[0m\u001b[0m\n\u001b[0m\u001b[1;32m     14\u001b[0m             \u001b[0;32mif\u001b[0m \u001b[0mstore\u001b[0m\u001b[0;34m.\u001b[0m\u001b[0mstorage\u001b[0m\u001b[0;34m[\u001b[0m\u001b[0mk\u001b[0m\u001b[0;34m]\u001b[0m\u001b[0;34m:\u001b[0m\u001b[0;34m\u001b[0m\u001b[0;34m\u001b[0m\u001b[0m\n\u001b[1;32m     15\u001b[0m                 \u001b[0mline\u001b[0m \u001b[0;34m=\u001b[0m \u001b[0;34m' '\u001b[0m\u001b[0;34m.\u001b[0m\u001b[0mjoin\u001b[0m\u001b[0;34m(\u001b[0m\u001b[0mstore\u001b[0m\u001b[0;34m.\u001b[0m\u001b[0mstorage\u001b[0m\u001b[0;34m[\u001b[0m\u001b[0mk\u001b[0m\u001b[0;34m]\u001b[0m\u001b[0;34m)\u001b[0m\u001b[0;34m\u001b[0m\u001b[0;34m\u001b[0m\u001b[0m\n",
      "\u001b[0;31mNameError\u001b[0m: name 'storage' is not defined"
     ]
    }
   ],
   "source": [
    "# Basic\n",
    "store.storage = {}\n",
    "print_dendrogram(root)\n",
    "store.print_tree()"
   ]
  },
  {
   "cell_type": "code",
   "execution_count": null,
   "metadata": {
    "ExecuteTime": {
     "end_time": "2020-11-22T19:07:20.700479Z",
     "start_time": "2020-11-22T19:07:18.446Z"
    }
   },
   "outputs": [],
   "source": [
    "# Better looking\n",
    "print(Node.qsize(), 'leaves')\n",
    "print()\n",
    "\n",
    "print_dendrogram_2(root)"
   ]
  },
  {
   "cell_type": "code",
   "execution_count": null,
   "metadata": {
    "ExecuteTime": {
     "end_time": "2020-11-22T19:07:20.704002Z",
     "start_time": "2020-11-22T19:07:18.448Z"
    }
   },
   "outputs": [],
   "source": [
    "def print_clusters(node, leaf_visited):\n",
    "    \n",
    "    if node.isLeaf:\n",
    "        \n",
    "        for i in node.data:\n",
    "            \n",
    "            label[i] = leaf_visited\n",
    "        \n",
    "        return leaf_visited + 1\n",
    "    \n",
    "    if node.left:\n",
    "        \n",
    "        leaf_visited = print_clusters(node.left, leaf_visited)\n",
    "    \n",
    "    if node.right:\n",
    "        \n",
    "        leaf_visited = print_clusters(node.right, leaf_visited)\n",
    "    \n",
    "    return leaf_visited"
   ]
  },
  {
   "cell_type": "code",
   "execution_count": null,
   "metadata": {
    "ExecuteTime": {
     "end_time": "2020-11-22T19:07:20.709531Z",
     "start_time": "2020-11-22T19:07:18.449Z"
    }
   },
   "outputs": [],
   "source": [
    "while not Node.queue_is_empty():\n",
    "\n",
    "    node = Node.dequeue()\n",
    "    node.isLeaf = True"
   ]
  },
  {
   "cell_type": "code",
   "execution_count": null,
   "metadata": {
    "ExecuteTime": {
     "end_time": "2020-11-22T19:07:20.714579Z",
     "start_time": "2020-11-22T19:07:18.450Z"
    }
   },
   "outputs": [],
   "source": [
    "total_leaf_node = print_clusters(root, leaf_visited=0)\n",
    "print(total_leaf_node)"
   ]
  },
  {
   "cell_type": "code",
   "execution_count": null,
   "metadata": {
    "ExecuteTime": {
     "end_time": "2020-11-22T19:07:20.719273Z",
     "start_time": "2020-11-22T19:07:18.451Z"
    }
   },
   "outputs": [],
   "source": [
    "label_output = [v for _,v in label.items()]\n",
    "np.savetxt(output_path, label_output, delimiter=' ', fmt='%i')"
   ]
  }
 ],
 "metadata": {
  "kernelspec": {
   "display_name": "Python 3",
   "language": "python",
   "name": "python3"
  },
  "language_info": {
   "codemirror_mode": {
    "name": "ipython",
    "version": 3
   },
   "file_extension": ".py",
   "mimetype": "text/x-python",
   "name": "python",
   "nbconvert_exporter": "python",
   "pygments_lexer": "ipython3",
   "version": "3.7.3"
  },
  "toc": {
   "base_numbering": 1,
   "nav_menu": {},
   "number_sections": true,
   "sideBar": true,
   "skip_h1_title": true,
   "title_cell": "Table of Contents",
   "title_sidebar": "Contents",
   "toc_cell": false,
   "toc_position": {},
   "toc_section_display": true,
   "toc_window_display": false
  },
  "varInspector": {
   "cols": {
    "lenName": 16,
    "lenType": 16,
    "lenVar": 40
   },
   "kernels_config": {
    "python": {
     "delete_cmd_postfix": "",
     "delete_cmd_prefix": "del ",
     "library": "var_list.py",
     "varRefreshCmd": "print(var_dic_list())"
    },
    "r": {
     "delete_cmd_postfix": ") ",
     "delete_cmd_prefix": "rm(",
     "library": "var_list.r",
     "varRefreshCmd": "cat(var_dic_list()) "
    }
   },
   "types_to_exclude": [
    "module",
    "function",
    "builtin_function_or_method",
    "instance",
    "_Feature"
   ],
   "window_display": false
  }
 },
 "nbformat": 4,
 "nbformat_minor": 4
}
