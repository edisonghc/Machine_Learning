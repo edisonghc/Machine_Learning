{
 "cells": [
  {
   "cell_type": "code",
   "execution_count": 1,
   "metadata": {
    "ExecuteTime": {
     "end_time": "2020-11-18T20:13:17.902326Z",
     "start_time": "2020-11-18T20:13:17.895515Z"
    }
   },
   "outputs": [],
   "source": [
    "import matplotlib.pyplot as plt\n",
    "import numpy as np\n",
    "\n",
    "from queue import PriorityQueue"
   ]
  },
  {
   "cell_type": "code",
   "execution_count": 2,
   "metadata": {
    "ExecuteTime": {
     "end_time": "2020-11-18T20:13:17.928768Z",
     "start_time": "2020-11-18T20:13:17.921320Z"
    }
   },
   "outputs": [],
   "source": [
    "data_path = 'data2.txt' # -data\n",
    "max_cluster_num = 20 # -k\n",
    "min_cluster_size = 5 # -s\n",
    "min_intra_dist = 1E-2 # -d\n",
    "output_path = 'output.txt' # -output\n",
    "\n",
    "MAGIC_NUMBER = 100"
   ]
  },
  {
   "cell_type": "code",
   "execution_count": 4,
   "metadata": {
    "ExecuteTime": {
     "end_time": "2020-11-18T20:13:17.949887Z",
     "start_time": "2020-11-18T20:13:17.934437Z"
    }
   },
   "outputs": [
    {
     "name": "stdout",
     "output_type": "stream",
     "text": [
      "[[0.1038 0.1407 0.388  0.4458 0.3979 0.4681 2.9521 1.9094 1.1123 3.3094]\n",
      " [0.2947 0.1265 0.2717 0.157  0.019  0.3781 0.6207 1.4717 0.1607 3.7803]\n",
      " [0.349  0.2444 0.074  0.313  0.4146 0.2763 0.9595 2.8737 1.3187 1.0399]\n",
      " [0.7933 0.395  0.9222 0.84   1.6784 0.9676 0.8049 0.2672 0.4296 0.4683]\n",
      " [1.8996 1.1234 0.3576 0.1076 0.117  0.7555 0.8389 0.2664 0.3201 0.4026]]\n",
      "(80, 10)\n"
     ]
    }
   ],
   "source": [
    "data = np.genfromtxt(data_path, delimiter=' ')\n",
    "\n",
    "DATA_SIZE = data.shape[0]\n",
    "DATA_DIM = data.shape[1]\n",
    "\n",
    "feature_idx = np.array([i for i in range(DATA_SIZE)], dtype=int)\n",
    "\n",
    "print(data[:5])\n",
    "print(data.shape)"
   ]
  },
  {
   "cell_type": "code",
   "execution_count": 5,
   "metadata": {
    "ExecuteTime": {
     "end_time": "2020-11-18T20:13:17.961533Z",
     "start_time": "2020-11-18T20:13:17.955334Z"
    },
    "code_folding": []
   },
   "outputs": [
    {
     "ename": "NameError",
     "evalue": "name 'size' is not defined",
     "output_type": "error",
     "traceback": [
      "\u001b[0;31m---------------------------------------------------------------------------\u001b[0m",
      "\u001b[0;31mNameError\u001b[0m                                 Traceback (most recent call last)",
      "\u001b[0;32m<ipython-input-5-12d8fb12f1b8>\u001b[0m in \u001b[0;36m<module>\u001b[0;34m\u001b[0m\n\u001b[1;32m      1\u001b[0m \u001b[0;31m# Initialize cluster labels\u001b[0m\u001b[0;34m\u001b[0m\u001b[0;34m\u001b[0m\u001b[0m\n\u001b[0;32m----> 2\u001b[0;31m \u001b[0;32mclass\u001b[0m \u001b[0mcluster_label\u001b[0m\u001b[0;34m:\u001b[0m\u001b[0;34m\u001b[0m\u001b[0m\n\u001b[0m\u001b[1;32m      3\u001b[0m \u001b[0;34m\u001b[0m\u001b[0m\n\u001b[1;32m      4\u001b[0m     \u001b[0mmax_idx\u001b[0m \u001b[0;34m=\u001b[0m \u001b[0;36m0\u001b[0m\u001b[0;34m\u001b[0m\u001b[0m\n\u001b[1;32m      5\u001b[0m \u001b[0;34m\u001b[0m\u001b[0m\n",
      "\u001b[0;32m<ipython-input-5-12d8fb12f1b8>\u001b[0m in \u001b[0;36mcluster_label\u001b[0;34m()\u001b[0m\n\u001b[1;32m      4\u001b[0m     \u001b[0mmax_idx\u001b[0m \u001b[0;34m=\u001b[0m \u001b[0;36m0\u001b[0m\u001b[0;34m\u001b[0m\u001b[0m\n\u001b[1;32m      5\u001b[0m \u001b[0;34m\u001b[0m\u001b[0m\n\u001b[0;32m----> 6\u001b[0;31m     \u001b[0mlabel\u001b[0m \u001b[0;34m=\u001b[0m \u001b[0;34m{\u001b[0m\u001b[0mi\u001b[0m\u001b[0;34m:\u001b[0m \u001b[0;36m0\u001b[0m \u001b[0;32mfor\u001b[0m \u001b[0mi\u001b[0m \u001b[0;32min\u001b[0m \u001b[0mrange\u001b[0m\u001b[0;34m(\u001b[0m\u001b[0msize\u001b[0m\u001b[0;34m)\u001b[0m\u001b[0;34m}\u001b[0m\u001b[0;34m\u001b[0m\u001b[0m\n\u001b[0m\u001b[1;32m      7\u001b[0m \u001b[0;34m\u001b[0m\u001b[0m\n\u001b[1;32m      8\u001b[0m     \u001b[0;32mdef\u001b[0m \u001b[0mnew_labels\u001b[0m\u001b[0;34m(\u001b[0m\u001b[0msize\u001b[0m\u001b[0;34m=\u001b[0m\u001b[0;36m2\u001b[0m\u001b[0;34m)\u001b[0m\u001b[0;34m:\u001b[0m\u001b[0;34m\u001b[0m\u001b[0m\n",
      "\u001b[0;31mNameError\u001b[0m: name 'size' is not defined"
     ]
    }
   ],
   "source": [
    "# Initialize cluster labels\n",
    "class cluster_label:\n",
    "\n",
    "    max_idx = 0\n",
    "\n",
    "    label = {i: 0 for i in range(size)}\n",
    "\n",
    "    def new_labels(size=2):\n",
    "        \n",
    "        label_idx = [i for i in range(cluster_label.max_idx+1, cluster_label.max_idx+1+size)]\n",
    "        cluster_label.max_idx = cluster_label.max_idx+size\n",
    "        \n",
    "        return label_idx"
   ]
  },
  {
   "cell_type": "code",
   "execution_count": 389,
   "metadata": {
    "ExecuteTime": {
     "end_time": "2020-11-18T20:13:18.289944Z",
     "start_time": "2020-11-18T20:13:17.967036Z"
    }
   },
   "outputs": [
    {
     "data": {
      "image/png": "[encoded data removed]",
      "text/plain": [
       "<Figure size 288x288 with 1 Axes>"
      ]
     },
     "metadata": {
      "needs_background": "light"
     },
     "output_type": "display_data"
    }
   ],
   "source": [
    "# Compute the pair-wise distance matrix\n",
    "\n",
    "# Initialize the matrix\n",
    "distance_mat = np.zeros((size, size))\n",
    "\n",
    "# Fill in with true distance\n",
    "for i in range(size):\n",
    "    for j in range(size):\n",
    "        \n",
    "        # dist(a,a) = 0\n",
    "        if i == j:\n",
    "            continue\n",
    "            \n",
    "        # dist(a,b) = dist(b,a)\n",
    "        if i > j:\n",
    "            distance_mat[i,j] = distance_mat[j,i]\n",
    "            \n",
    "        # Calculate the Euclidean distance: dist(a,b)\n",
    "        else:\n",
    "            distance_mat[i,j] = np.linalg.norm(data[i] - data[j])\n",
    "\n",
    "plt.matshow(distance_mat, cmap='gray')\n",
    "plt.show()"
   ]
  },
  {
   "cell_type": "code",
   "execution_count": 390,
   "metadata": {
    "ExecuteTime": {
     "end_time": "2020-11-18T20:13:18.316054Z",
     "start_time": "2020-11-18T20:13:18.298176Z"
    }
   },
   "outputs": [],
   "source": [
    "def dist(a, b, index=True):\n",
    "\n",
    "    if index:\n",
    "        return distance_mat[a, b]\n",
    "\n",
    "    else:\n",
    "        return np.linalg.norm(a - b)"
   ]
  },
  {
   "cell_type": "code",
   "execution_count": 391,
   "metadata": {
    "ExecuteTime": {
     "end_time": "2020-11-18T20:13:18.330954Z",
     "start_time": "2020-11-18T20:13:18.322172Z"
    }
   },
   "outputs": [],
   "source": [
    "def icd(features, center):\n",
    "\n",
    "    intra_dist = np.array([])\n",
    "\n",
    "    for f in features:\n",
    "        \n",
    "        distance = dist(center, f, False)\n",
    "        intra_dist = np.append(intra_dist, distance)\n",
    "\n",
    "    return np.mean(intra_dist)"
   ]
  },
  {
   "cell_type": "code",
   "execution_count": 392,
   "metadata": {
    "ExecuteTime": {
     "end_time": "2020-11-18T20:13:18.442755Z",
     "start_time": "2020-11-18T20:13:18.355849Z"
    },
    "code_folding": [
     0
    ]
   },
   "outputs": [],
   "source": [
    "def kmeans(feature_idx, label_list=[0,1], use_centroid=True):  # False for using 'medoid'\n",
    "\n",
    "    \n",
    "    # Get k\n",
    "    k = len(label_list)\n",
    "\n",
    "    # Initialize K centers\n",
    "    center_idx = np.random.choice(feature_idx, size=k, replace=False)\n",
    "    center = np.array(data[center_idx])\n",
    "\n",
    "    # Initialize return values\n",
    "    width = {}\n",
    "    subclusters = {}\n",
    "    label_dict = {i: 0 for i in feature_idx}\n",
    "\n",
    "    while True:\n",
    "\n",
    "        # Assign each x to its closest center\n",
    "        label = np.array([], dtype=int)\n",
    "        dist2center = np.array([])\n",
    "\n",
    "        for f in feature_idx:\n",
    "\n",
    "            min_distance = None\n",
    "            nearest_label = None\n",
    "\n",
    "            for i in range(k):\n",
    "\n",
    "                c = center[i]\n",
    "                distance = dist(data[f], c, False)\n",
    "\n",
    "                # Update to the closest center so far\n",
    "                if min_distance is None or distance < min_distance:  # Short circuit\n",
    "                    \n",
    "                    min_distance = distance\n",
    "                    nearest_label = label_list[i]\n",
    "            \n",
    "            dist2center= np.append(dist2center, min_distance)\n",
    "            label = np.append(label, nearest_label)\n",
    "\n",
    "        # Calculate the mean of each cluster\n",
    "        cluster_mean = np.array([])\n",
    "\n",
    "        for lab in label_list:\n",
    "\n",
    "            cluster = np.array([data[i] for i in feature_idx[label == lab]])\n",
    "            cluster_mean = np.append(cluster_mean, np.mean(cluster, axis=0))\n",
    "\n",
    "        cluster_mean = np.reshape(cluster_mean, (-1, DATA_DIM))\n",
    "\n",
    "        # Continue updating the cluster centers if any x is reassigned to a new center\n",
    "        if np.array_equal(cluster_mean, center):\n",
    "            \n",
    "            # Output block:\n",
    "            \n",
    "            smaller_cluster = label_list[0]\n",
    "            smaller_cluster_size = len(feature_idx)\n",
    "            \n",
    "            # Calculate the width of each cluster\n",
    "            for i, lab in zip(range(k), label_list):\n",
    "                \n",
    "                index = label == lab\n",
    "                \n",
    "                width[lab] = np.mean(dist2center[index])\n",
    "\n",
    "                subclusters[lab] = feature_idx[index]\n",
    "                \n",
    "                cluster_size = sum(index)\n",
    "                \n",
    "                if cluster_size < smaller_cluster_size:\n",
    "                    smaller_cluster_size = cluster_size\n",
    "                    smaller_cluster = lab\n",
    "            \n",
    "            # Assign label to each data point\n",
    "            for i, lab in zip((feature_idx), label):\n",
    "                \n",
    "                label_dict[i] = lab\n",
    "\n",
    "            break\n",
    "\n",
    "        else:\n",
    "            \n",
    "            center = cluster_mean\n",
    "\n",
    "    return width, subclusters, label_dict, smaller_cluster"
   ]
  },
  {
   "cell_type": "code",
   "execution_count": 393,
   "metadata": {
    "ExecuteTime": {
     "end_time": "2020-11-18T20:13:18.639314Z",
     "start_time": "2020-11-18T20:13:18.500130Z"
    },
    "scrolled": true
   },
   "outputs": [
    {
     "data": {
      "text/plain": [
       "1"
      ]
     },
     "execution_count": 393,
     "metadata": {},
     "output_type": "execute_result"
    }
   ],
   "source": [
    "kmeans(feature_idx)\n",
    "1"
   ]
  },
  {
   "cell_type": "code",
   "execution_count": 394,
   "metadata": {
    "ExecuteTime": {
     "end_time": "2020-11-18T20:13:18.670229Z",
     "start_time": "2020-11-18T20:13:18.646507Z"
    }
   },
   "outputs": [],
   "source": [
    "class Node:\n",
    "    \n",
    "    node_queue = PriorityQueue()\n",
    "    \n",
    "    def __init__(self, feature_index):\n",
    "        \n",
    "        # Attributes\n",
    "        self.size = len(feature_index)\n",
    "        self.width = MAGIC_NUMBER\n",
    "        self.label_list = [0,1]\n",
    "        self.isLeaf = False\n",
    "        \n",
    "        # Data and children\n",
    "        self.data_idx = feature_index\n",
    "        self.left = None\n",
    "        self.right = None\n",
    "        \n",
    "        Node.node_queue.put((DATA_SIZE - self.size, self))"
   ]
  },
  {
   "cell_type": "code",
   "execution_count": 395,
   "metadata": {
    "ExecuteTime": {
     "end_time": "2020-11-18T20:13:18.709185Z",
     "start_time": "2020-11-18T20:13:18.691751Z"
    }
   },
   "outputs": [],
   "source": [
    "root = Node(feature_idx)\n",
    "root.left = Node(feature_idx[:10])"
   ]
  },
  {
   "cell_type": "code",
   "execution_count": 396,
   "metadata": {
    "ExecuteTime": {
     "end_time": "2020-11-18T20:13:18.726638Z",
     "start_time": "2020-11-18T20:13:18.715190Z"
    }
   },
   "outputs": [
    {
     "ename": "AttributeError",
     "evalue": "'tuple' object has no attribute 'size'",
     "output_type": "error",
     "traceback": [
      "\u001b[0;31m---------------------------------------------------------------------------\u001b[0m",
      "\u001b[0;31mAttributeError\u001b[0m                            Traceback (most recent call last)",
      "\u001b[0;32m<ipython-input-396-5b8c1d54f56d>\u001b[0m in \u001b[0;36m<module>\u001b[0;34m\u001b[0m\n\u001b[0;32m----> 1\u001b[0;31m \u001b[0mNode\u001b[0m\u001b[0;34m.\u001b[0m\u001b[0mnode_queue\u001b[0m\u001b[0;34m.\u001b[0m\u001b[0mget\u001b[0m\u001b[0;34m(\u001b[0m\u001b[0;34m)\u001b[0m\u001b[0;34m.\u001b[0m\u001b[0msize\u001b[0m\u001b[0;34m\u001b[0m\u001b[0;34m\u001b[0m\u001b[0m\n\u001b[0m",
      "\u001b[0;31mAttributeError\u001b[0m: 'tuple' object has no attribute 'size'"
     ]
    }
   ],
   "source": [
    "Node.node_queue.get().size"
   ]
  },
  {
   "cell_type": "code",
   "execution_count": null,
   "metadata": {
    "ExecuteTime": {
     "end_time": "2020-11-18T20:13:18.732019Z",
     "start_time": "2020-11-18T20:13:17.917Z"
    }
   },
   "outputs": [],
   "source": [
    "def bisecting(node, count=0):\n",
    "    \n",
    "    # Get stopping criteria\n",
    "    intra_dist = node.width\n",
    "    cluster_size = node.size\n",
    "    cluster_count = count\n",
    "    \n",
    "    label_list = cluster_label.new_labels()\n",
    "    \n",
    "    if cluster_size < min_cluster_size or cluster_count >= max_cluster_num or min(intra_dist) < min_intra_dist:\n",
    "        \n",
    "        node.isLeaf = True\n",
    "        \n",
    "        return \n",
    "    \n",
    "    else:\n",
    "        \n",
    "        width, subclusters, label_dict, smaller_cluster = kmeans(node.data_idx, label_list=label_list)\n",
    "        bigger_cluster = int([i for i in self.label_list].remove(smaller_cluster))\n",
    "        \n",
    "#         for k,v in subclusters.items()\n",
    "            \n",
    "        node.left = Node(subclusters[smaller_cluster])\n",
    "        node.left.width = width[smaller_cluster]\n",
    "        \n",
    "        node.right = Node(subclusters[bigger_cluster])\n",
    "        node.right.width = width[bigger_cluster]\n",
    "        \n",
    "        print(f'{node.left.size} {node.right.size}')\n",
    "        \n",
    "        bisecting(node.left, cluster_count)\n",
    "        \n"
   ]
  }
 ],
 "metadata": {
  "kernelspec": {
   "display_name": "Python 3",
   "language": "python",
   "name": "python3"
  },
  "language_info": {
   "codemirror_mode": {
    "name": "ipython",
    "version": 3
   },
   "file_extension": ".py",
   "mimetype": "text/x-python",
   "name": "python",
   "nbconvert_exporter": "python",
   "pygments_lexer": "ipython3",
   "version": "3.6.6+"
  },
  "toc": {
   "base_numbering": 1,
   "nav_menu": {},
   "number_sections": true,
   "sideBar": true,
   "skip_h1_title": true,
   "title_cell": "Table of Contents",
   "title_sidebar": "Contents",
   "toc_cell": false,
   "toc_position": {},
   "toc_section_display": true,
   "toc_window_display": true
  },
  "varInspector": {
   "cols": {
    "lenName": 16,
    "lenType": 16,
    "lenVar": 40
   },
   "kernels_config": {
    "python": {
     "delete_cmd_postfix": "",
     "delete_cmd_prefix": "del ",
     "library": "var_list.py",
     "varRefreshCmd": "print(var_dic_list())"
    },
    "r": {
     "delete_cmd_postfix": ") ",
     "delete_cmd_prefix": "rm(",
     "library": "var_list.r",
     "varRefreshCmd": "cat(var_dic_list()) "
    }
   },
   "types_to_exclude": [
    "module",
    "function",
    "builtin_function_or_method",
    "instance",
    "_Feature"
   ],
   "window_display": false
  }
 },
 "nbformat": 4,
 "nbformat_minor": 4
}
